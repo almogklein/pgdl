{
 "cells": [
  {
   "cell_type": "code",
   "execution_count": 1,
   "id": "2acc6171-a93c-4fc5-bb8d-7f63daa2aab5",
   "metadata": {
    "is_executing": true
   },
   "outputs": [],
   "source": [
    "import warnings\n",
    "warnings.filterwarnings('ignore')\n",
    "\n",
    "import numpy as np\n",
    "import pandas as pd\n",
    "\n",
    "import seaborn as sns\n",
    "import json, requests, time\n",
    "from numpy.linalg import inv\n",
    "import matplotlib.pyplot as plt\n",
    "from scipy.spatial import distance\n",
    "from sqlalchemy import create_engine\n",
    "\n",
    "from sklearn.cluster import KMeans\n",
    "from sklearn.preprocessing import StandardScaler\n",
    "from sklearn.metrics.pairwise import cosine_similarity\n",
    "from sklearn.model_selection import train_test_split, GridSearchCV\n",
    "from sklearn.linear_model import LinearRegression, LogisticRegression\n",
    "from sklearn.metrics import silhouette_score, accuracy_score, classification_report, mean_squared_error\n",
    "\n",
    "engine = create_engine('postgresql://postgres:argmax@pg:5432/postgres')"
   ]
  },
  {
   "cell_type": "markdown",
   "id": "680c6725",
   "metadata": {},
   "source": [
    "# Data\n",
    "Every time a user opens a mobile app, an auction is going on behind the scenes. The highest bidder gets to advertise his ad to the user.\n",
    "## Auctions Table"
   ]
  },
  {
   "cell_type": "code",
   "execution_count": null,
   "id": "d0a63fdd",
   "metadata": {},
   "outputs": [],
   "source": [
    "sql_query = 'SELECT * FROM auctions;'\n",
    "with engine.connect() as db_con:\n",
    "    df = pd.read_sql(sql_query, con=db_con)"
   ]
  },
  {
   "cell_type": "markdown",
   "id": "ff9c86e9",
   "metadata": {},
   "source": [
    "## App Vectors table\n",
    "We've gathered the first few sentences from the app store description and embedded it with a [model](https://huggingface.co/mixedbread-ai/mxbai-embed-large-v1)"
   ]
  },
  {
   "cell_type": "code",
   "execution_count": null,
   "id": "05408c99",
   "metadata": {
    "scrolled": true
   },
   "outputs": [],
   "source": [
    "sql_query = f'''\n",
    "SELECT\n",
    "    *\n",
    "FROM app_vectors\n",
    "'''\n",
    "has_embedding = False\n",
    "while not has_embedding:\n",
    "    with engine.connect() as db_con:\n",
    "        df = pd.read_sql(sql_query, con=db_con)\n",
    "    has_embedding = (~df[\"embedding\"].isna()).all()\n",
    "    if not has_embedding:\n",
    "        print(\"Waiting for embeddings...\")\n",
    "        \n",
    "        time.sleep(15)\n"
   ]
  },
  {
   "cell_type": "markdown",
   "id": "2fac0d2f",
   "metadata": {},
   "source": [
    "We can use the `<=>` operator to run vector search within the database"
   ]
  },
  {
   "cell_type": "code",
   "execution_count": null,
   "id": "79504473",
   "metadata": {
    "scrolled": true
   },
   "outputs": [],
   "source": [
    "vec = json.loads(df.embedding[1]) # get the first embedding\n",
    "print (\"Embedding size: {l}\".format(l=len(vec)))\n",
    "\n",
    "sql_query = f'''\n",
    "SELECT\n",
    "    \"bundleId\"\n",
    "FROM app_vectors\n",
    "ORDER BY embedding<=>'{json.dumps(vec)}'\n",
    "'''\n",
    "with engine.connect() as db_con:\n",
    "    df__ = pd.read_sql(sql_query, con=db_con)\n",
    "\n",
    "df__"
   ]
  },
  {
   "cell_type": "markdown",
   "id": "0e7be478",
   "metadata": {},
   "source": [
    "# What you need to do\n",
    "## The hypothesis\n",
    "We assume that apps with similar desciptions, would have a similar asking price in the auctions (`sentPrice` column).\n",
    "\n",
    "Use cosine similarity (`<=>`) on the embeddings to find similar apps, and any statistical tools you find suitable to prove or disprove this hypothesis.\n",
    "\n",
    "## Is it consistent?\n",
    "There are several other features in the auctions table (such as `CountryCode` and `OS`), \n",
    "Do your findings hold for those as well?"
   ]
  },
  {
   "cell_type": "code",
   "execution_count": null,
   "id": "92080cd1-2a99-4e93-a9f0-7b6b6a66d129",
   "metadata": {},
   "outputs": [],
   "source": [
    "%pip install seaborn\n",
    "%pip install matplotlib\n",
    "%pip install scikit-learn"
   ]
  },
  {
   "cell_type": "code",
   "execution_count": null,
   "id": "99b61a69-83f0-4325-aeb7-9c0bfe70a79e",
   "metadata": {},
   "outputs": [],
   "source": [
    "# TODO: Please write your analysis here"
   ]
  },
  {
   "cell_type": "code",
   "execution_count": 2,
   "id": "d9f43af2-ed4e-4653-a04c-8c84686a80b2",
   "metadata": {},
   "outputs": [],
   "source": [
    "## func section \n",
    "def get_auctions_data_from_sql(engine, sql_query = 'SELECT * FROM auctions;'):\n",
    "    \n",
    "    with engine.connect() as db_con:\n",
    "        auction_df = pd.read_sql(sql_query, con=db_con)\n",
    "        \n",
    "    return auction_df\n",
    "\n",
    "def get_app_vectors_data_from_sql(engine, sql_query = 'SELECT * FROM app_vectors;'):\n",
    "    \n",
    "    has_embedding = False\n",
    "    while not has_embedding:\n",
    "        with engine.connect() as db_con:\n",
    "            app_vectors_df = pd.read_sql(sql_query, con=db_con)\n",
    "        has_embedding = (~app_vectors_df[\"embedding\"].isna()).all()\n",
    "        \n",
    "        if not has_embedding:\n",
    "            print(\"Waiting for embeddings...\")\n",
    "            time.sleep(15)\n",
    "            \n",
    "    return app_vectors_df\n",
    "\n",
    "def plot_sorted_by_price_distribution(auction_df, first_column, second_column, first_word = \"iOS\", second_word = \"Android\", ios_step=10, and_step=10):\n",
    "    # Function to adjust ticks\n",
    "    def adjust_ticks(labels, step):\n",
    "        return [label for index, label in enumerate(labels) if index % step == 0], [index for index in range(len(labels)) if index % step == 0]\n",
    "\n",
    "    # Calculate value counts and sort them for both OS versions\n",
    "    ios_value_counts_sorted = auction_df[auction_df[first_column].str.contains(first_word, na=False)][second_column].value_counts().sort_index(ascending=True)\n",
    "    and_value_counts_sorted = auction_df[auction_df[first_column].str.contains(second_word, na=False)][second_column].value_counts().sort_index(ascending=True)\n",
    "\n",
    "    # Determine steps for tick intervals\n",
    "    ios_step = max(1, len(ios_value_counts_sorted) // ios_step)\n",
    "    and_step = max(1, len(and_value_counts_sorted) // and_step)\n",
    "\n",
    "    # Recalculate tick positions and labels\n",
    "    ios_thin_labels, ios_thin_ticks = adjust_ticks(ios_value_counts_sorted.index.tolist(), ios_step)\n",
    "    and_thin_labels, and_thin_ticks = adjust_ticks(and_value_counts_sorted.index.tolist(), and_step)\n",
    "\n",
    "    # Increase figure size for better clarity\n",
    "    plt.figure(figsize=(10, 8))\n",
    "\n",
    "    # iOS Plot adjustments\n",
    "    plt.subplot(2, 1, 1)\n",
    "    sns.barplot(x=ios_value_counts_sorted.index, y=ios_value_counts_sorted.values)\n",
    "    plt.title(f'{first_word} {second_column} Distribution')\n",
    "    plt.xlabel(second_column)\n",
    "    plt.ylabel('Frequency')\n",
    "    plt.xticks(ticks=ios_thin_ticks, labels=ios_thin_labels, rotation=45)\n",
    "\n",
    "    # Android Plot adjustments\n",
    "    plt.subplot(2, 1, 2)\n",
    "    sns.barplot(x=and_value_counts_sorted.index, y=and_value_counts_sorted.values)\n",
    "    plt.title(f'{second_word} {second_column} Distribution')\n",
    "    plt.xlabel(second_column)\n",
    "    plt.ylabel('Frequency')\n",
    "    plt.xticks(ticks=and_thin_ticks, labels=and_thin_labels, rotation=45)\n",
    "\n",
    "    # Adjust layout and display the plots\n",
    "    plt.tight_layout()\n",
    "    plt.show()\n",
    "\n",
    "# Assuming we have some function to get vectors (embeddings) for bundle IDs\n",
    "def get_embedding(bundle_id):\n",
    "    return bundle_id_to_embedding.get(bundle_id, None)\n",
    "    \n",
    "# Function to get similar apps based on Mahalanobis distance\n",
    "def find_similar_apps_mahalanobis(bundle_id, top_n=10):\n",
    "    \n",
    "    # Define Mahalanobis distance function\n",
    "    def mahalanobis_distance(vec1, vec2, inv_cov_matrix):\n",
    "        delta = vec1 - vec2\n",
    "        m_distance = np.dot(np.dot(delta, inv_cov_matrix), delta)\n",
    "        return np.sqrt(max(m_distance, 0))  # Prevent negative values under the square root\n",
    "\n",
    "    target_vec = get_embedding(bundle_id)\n",
    "    if target_vec is not None:\n",
    "        distances = []\n",
    "        for other_id, other_vec in bundle_id_to_embedding.items():\n",
    "            if other_id != bundle_id:\n",
    "                dist = mahalanobis_distance(np.array(target_vec), np.array(other_vec), inverse_covariance_matrix)\n",
    "                distances.append((other_id, dist))\n",
    "        # Sort by distance, return closest apps\n",
    "        distances.sort(key=lambda x: x[1])\n",
    "        return [bundle_id for bundle_id, dist in distances[:top_n]]\n",
    "    else:\n",
    "        return []\n",
    "\n",
    "def find_similar_apps_cosine(bundle_id, top_n=10):\n",
    "    # Check if the bundle_id is in the app_similarity dictionary\n",
    "    if bundle_id in app_similarity and 'cosine' in app_similarity[bundle_id]:\n",
    "        # Fetch the list of similar apps based on cosine similarity\n",
    "        similar_apps = app_similarity[bundle_id]['cosine']\n",
    "        # Return the top N similar apps, or all if there are fewer than N\n",
    "        return similar_apps[:top_n]\n",
    "    else:\n",
    "        # Return an empty list if no similarities are found or the app isn't in the dictionary\n",
    "        return []\n",
    "\n",
    "# Function to calculate average price for a list of apps\n",
    "def calculate_average_price(similar_apps, auction_data):\n",
    "    \n",
    "    prices = auction_data[auction_data['bundleId'].isin(similar_apps)]['sentPrice']\n",
    "    return prices.mean() if not prices.empty else None\n",
    "   \n",
    "def get_fallback_prices(new_row, auction_df):\n",
    "    fallbacks = [\n",
    "        ('unitDisplayType', 'countryCode'),  # First level fallback\n",
    "        ('brandName', 'countryCode'),       # Second level fallback\n",
    "        ('bundleId', 'countryCode'),\n",
    "        ('bundleId',), # Third level fallback\n",
    "        ()                                  # Final fallback to overall average\n",
    "    ]\n",
    "    for attributes in fallbacks:\n",
    "        if attributes:  # If there are attributes to consider\n",
    "            avg_price = auction_df.groupby(list(attributes))['sentPrice'].mean().to_dict()\n",
    "            key = tuple(new_row[attr] for attr in attributes if attr in new_row)\n",
    "            if key in avg_price:\n",
    "                return avg_price[key]\n",
    "        else:  # No more attributes to consider, return overall average\n",
    "            return auction_df['sentPrice'].mean()\n",
    "    return None  # Should never reach here if overall average exists\n",
    "\n",
    "# Naive approach for price prediction\n",
    "def predict_price_naive(new_auction, auction):\n",
    "    return avg_price_by_combination.get(\n",
    "        (new_auction['unitDisplayType'], new_auction['brandName'], new_auction['bundleId'], \n",
    "         new_auction['countryCode'], new_auction['osAndVersion']),\n",
    "        get_fallback_prices(new_auction, auction))\n",
    "\n",
    "def apply_naive_prediction(row):\n",
    "    \"\"\"Apply naive price prediction based on a single auction row.\"\"\"\n",
    "    return predict_price_naive(row, auction_train)"
   ]
  },
  {
   "cell_type": "code",
   "execution_count": 3,
   "id": "c7e55cb1-c222-4449-b42b-86c403eb9cbc",
   "metadata": {},
   "outputs": [
    {
     "data": {
      "text/plain": [
       "(39097, 10)"
      ]
     },
     "execution_count": 3,
     "metadata": {},
     "output_type": "execute_result"
    }
   ],
   "source": [
    "## Start preproccesing \n",
    "# Load the data from SQL\n",
    "engine = create_engine('postgresql://postgres:argmax@pg:5432/postgres')\n",
    "\n",
    "auction_df = get_auctions_data_from_sql(engine, sql_query = 'SELECT * FROM auctions;')\n",
    "app_vectors_df = get_app_vectors_data_from_sql(engine, sql_query = 'SELECT * FROM app_vectors;')\n",
    "\n",
    "# Filter the whoal dataframe by sentPrice frequences; ent_price_counts > 5\n",
    "sent_price_counts = auction_df['sentPrice'].value_counts()\n",
    "mask = auction_df['sentPrice'].isin(sent_price_counts[sent_price_counts > 5].index)\n",
    "filtered_auction_df = auction_df[mask]\n",
    "\n",
    "filtered_auction_df.shape"
   ]
  },
  {
   "cell_type": "code",
   "execution_count": 4,
   "id": "46d42a7d-8bec-456e-befc-491df0ab684e",
   "metadata": {},
   "outputs": [
    {
     "name": "stdout",
     "output_type": "stream",
     "text": [
      "<class 'pandas.core.frame.DataFrame'>\n",
      "Index: 39097 entries, 0 to 41583\n",
      "Data columns (total 10 columns):\n",
      " #   Column           Non-Null Count  Dtype  \n",
      "---  ------           --------------  -----  \n",
      " 0   id               39097 non-null  int64  \n",
      " 1   eventTimestamp   39097 non-null  object \n",
      " 2   unitDisplayType  39097 non-null  object \n",
      " 3   brandName        39097 non-null  object \n",
      " 4   bundleId         39097 non-null  object \n",
      " 5   countryCode      39097 non-null  object \n",
      " 6   deviceId         39097 non-null  object \n",
      " 7   osAndVersion     39097 non-null  object \n",
      " 8   bidFloorPrice    39097 non-null  float64\n",
      " 9   sentPrice        39097 non-null  float64\n",
      "dtypes: float64(2), int64(1), object(7)\n",
      "memory usage: 3.3+ MB\n",
      "None\n",
      "<class 'pandas.core.frame.DataFrame'>\n",
      "RangeIndex: 18 entries, 0 to 17\n",
      "Data columns (total 4 columns):\n",
      " #   Column     Non-Null Count  Dtype \n",
      "---  ------     --------------  ----- \n",
      " 0   id         18 non-null     int64 \n",
      " 1   bundleId   18 non-null     object\n",
      " 2   content    18 non-null     object\n",
      " 3   embedding  18 non-null     object\n",
      "dtypes: int64(1), object(3)\n",
      "memory usage: 708.0+ bytes\n",
      "None\n",
      "bundleId\n",
      "com.loop.match3d               10011\n",
      "se.ace.fishinc                  4465\n",
      "com.kamilbilge.ropesavior3d     4367\n",
      "com.tintash.nailsalon           4150\n",
      "1502447854                      2883\n",
      "com.AppIdeas.LevelUpRunner      2836\n",
      "1523081624                      2454\n",
      "com.tilegarden.match3           2262\n",
      "com.volt.dresstoimpress         1637\n",
      "com.YayySAL.DodgeAgent          1297\n",
      "1436213906                       924\n",
      "dovi.coalmining.inc              584\n",
      "1529614832                       376\n",
      "1586795332                       347\n",
      "1579489488                       223\n",
      "1542256628                       219\n",
      "1582745578                        51\n",
      "1569586264                        11\n",
      "Name: count, dtype: int64\n"
     ]
    }
   ],
   "source": [
    "# Check for missing values and data types\n",
    "print(filtered_auction_df.info())\n",
    "print(app_vectors_df.info())\n",
    "print(filtered_auction_df['bundleId'].value_counts())"
   ]
  },
  {
   "cell_type": "code",
   "execution_count": 5,
   "id": "3de545bc-186e-461f-8df9-5e69b52c0591",
   "metadata": {},
   "outputs": [
    {
     "name": "stdout",
     "output_type": "stream",
     "text": [
      "Average sent price across all auctions: 0.4533979589226794 +- 1.163124723842441; max: 11.35; min: 0.01\n",
      "\n",
      "Average bid price across all auctions: 0.04354144819295599 +- 0.2958847429838727; max: 5.0; min: 0.01\n"
     ]
    }
   ],
   "source": [
    "average_price = filtered_auction_df['sentPrice'].mean()\n",
    "std_price = filtered_auction_df['sentPrice'].std()\n",
    "print(f\"Average sent price across all auctions: {average_price} +- {std_price}; max: {filtered_auction_df['sentPrice'].max()}; min: {filtered_auction_df['sentPrice'].min()}\\n\")\n",
    "\n",
    "average_price = filtered_auction_df['bidFloorPrice'].mean()\n",
    "std_price = filtered_auction_df['bidFloorPrice'].std()\n",
    "print(f\"Average bid price across all auctions: {average_price} +- {std_price}; max: {filtered_auction_df['bidFloorPrice'].max()}; min: {filtered_auction_df['bidFloorPrice'].min()}\")"
   ]
  },
  {
   "cell_type": "code",
   "execution_count": 6,
   "id": "b9afc49d-4a21-4b3d-b39d-924939eed496",
   "metadata": {},
   "outputs": [
    {
     "name": "stdout",
     "output_type": "stream",
     "text": [
      "                bidFloorPrice           sentPrice          \n",
      "                         mean       std      mean       std\n",
      "unitDisplayType                                            \n",
      "banner               0.028404  0.025642  0.140721  0.262063\n",
      "interstitial         0.094914  0.596766  0.695915  1.277626\n",
      "rewarded             0.023628  0.018959  1.014261  1.964186\n",
      "\n",
      "            bidFloorPrice           sentPrice          \n",
      "                     mean       std      mean       std\n",
      "countryCode                                            \n",
      "AD               0.010000       NaN  0.110000       NaN\n",
      "AE               0.024488  0.019302  0.491811  1.265236\n",
      "AF               0.025000  0.020702  0.246250  0.496845\n",
      "AL               0.020526  0.017850  0.177632  0.235664\n",
      "AM               0.020909  0.018234  0.235909  0.367147\n",
      "...                   ...       ...       ...       ...\n",
      "VN               0.022486  0.019117  0.462793  0.766831\n",
      "XK               0.010000       NaN  0.200000       NaN\n",
      "ZA               0.026541  0.021816  0.488113  0.804170\n",
      "ZM               0.010000       NaN  0.090000       NaN\n",
      "ZW               0.034000  0.020656  0.156000  0.156787\n",
      "\n",
      "[171 rows x 4 columns]\n",
      "\n",
      "              bidFloorPrice           sentPrice          \n",
      "                       mean       std      mean       std\n",
      "osAndVersion                                             \n",
      "Android-10.0       0.028416  0.023057  0.356415  0.939962\n",
      "Android-11.0       0.028828  0.023235  0.378102  1.001486\n",
      "Android-12.0       0.050000       NaN  0.050000       NaN\n",
      "Android-4.0        0.029015  0.026822  0.530089  1.333598\n",
      "Android-4.4.2      0.018889  0.017638  0.097778  0.187802\n",
      "...                     ...       ...       ...       ...\n",
      "iOS-15.4           0.186667  0.914997  0.602069  1.294771\n",
      "iOS-15.4.1         0.116427  0.701370  0.664856  1.401255\n",
      "iOS-15.5           0.111532  0.690915  0.709858  1.574493\n",
      "iOS-15.6           0.393846  1.383977  0.772308  1.485206\n",
      "iOS-16.0           0.010000  0.000000  0.340000  0.446430\n",
      "\n",
      "[95 rows x 4 columns]\n"
     ]
    }
   ],
   "source": [
    "# Average and standard deviation of sentPrice by display type\n",
    "filtered_avg_std_price_by_display = filtered_auction_df.groupby('unitDisplayType')[['bidFloorPrice', 'sentPrice']].agg(['mean', 'std'])\n",
    "print(filtered_avg_std_price_by_display)\n",
    "print()\n",
    "\n",
    "# Average and standard deviation of sentPrice by country\n",
    "filtered_avg_std_price_by_country = filtered_auction_df.groupby('countryCode')[['bidFloorPrice', 'sentPrice']].agg(['mean', 'std'])\n",
    "print(filtered_avg_std_price_by_country)\n",
    "print()\n",
    "\n",
    "# Average and standard deviation of sentPrice by OS\n",
    "filtered_avg_std_price_by_os = filtered_auction_df.groupby('osAndVersion')[['bidFloorPrice', 'sentPrice']].agg(['mean', 'std'])\n",
    "print(filtered_avg_std_price_by_os)"
   ]
  },
  {
   "cell_type": "code",
   "execution_count": 7,
   "id": "b3e85d23-4dba-4270-afed-b05becb2cdf5",
   "metadata": {},
   "outputs": [
    {
     "data": {
      "image/png": "[encoded data removed]",
      "text/plain": [
       "<Figure size 1000x800 with 2 Axes>"
      ]
     },
     "metadata": {},
     "output_type": "display_data"
    }
   ],
   "source": [
    "plot_sorted_by_price_distribution(filtered_auction_df, \n",
    "                                  first_column='bundleId', second_column='sentPrice', \n",
    "                                  first_word=\"iOS\", second_word=\"Android\",\n",
    "                                  ios_step=10, and_step=10)\n",
    "\n",
    "# plot_sorted_by_price_distribution(filtered_auction_df, 'brandName', 'sentPrice', \"Samsung\", \"Apple\")"
   ]
  },
  {
   "cell_type": "code",
   "execution_count": 8,
   "id": "83674c1a-33c4-4ce1-a365-f099730f2c92",
   "metadata": {},
   "outputs": [],
   "source": [
    "# print(filtered_auction_df['bundleId'].value_counts())\n",
    "# print()\n",
    "# print(filtered_auction_df['brandName'].value_counts())\n",
    "# print()\n",
    "# print(filtered_auction_df['unitDisplayType'].value_counts())\n",
    "# print()\n",
    "# print(filtered_auction_df['countryCode'].value_counts())\n",
    "# print()\n",
    "# print(filtered_auction_df['osAndVersion'].value_counts())"
   ]
  },
  {
   "cell_type": "code",
   "execution_count": 9,
   "id": "93cc0e7e-9141-49b4-9cb2-6088e9a02885",
   "metadata": {},
   "outputs": [],
   "source": [
    "# Split the auction data into training and testing sets (more for control and evaluetion)\n",
    "auction_train, auction_test = train_test_split(filtered_auction_df, test_size=0.2, random_state=42, shuffle=True, \n",
    "                                               stratify=filtered_auction_df['sentPrice'])  # 20% of data for testing"
   ]
  },
  {
   "cell_type": "code",
   "execution_count": 10,
   "id": "46455f41-5f3f-402d-8f5c-2cb291240f50",
   "metadata": {},
   "outputs": [
    {
     "name": "stdout",
     "output_type": "stream",
     "text": [
      "Overall mean sent price: 0.4547386258272852\n",
      "Overall median sent price: 0.07\n",
      "bundleId\n",
      "1569586264                     4.193750\n",
      "1436213906                     1.639357\n",
      "1542256628                     0.717500\n",
      "com.tilegarden.match3          0.702906\n",
      "1502447854                     0.656249\n",
      "se.ace.fishinc                 0.633462\n",
      "com.loop.match3d               0.495345\n",
      "1586795332                     0.450142\n",
      "1529614832                     0.422967\n",
      "com.volt.dresstoimpress        0.399116\n",
      "1579489488                     0.372333\n",
      "1523081624                     0.359385\n",
      "1582745578                     0.328649\n",
      "com.YayySAL.DodgeAgent         0.313705\n",
      "dovi.coalmining.inc            0.304520\n",
      "com.kamilbilge.ropesavior3d    0.278368\n",
      "com.tintash.nailsalon          0.159994\n",
      "com.AppIdeas.LevelUpRunner     0.132122\n",
      "Name: sentPrice, dtype: float64\n"
     ]
    }
   ],
   "source": [
    "# Calculate the overall average sentPrice\n",
    "overall_avg_sent_price = auction_train['sentPrice'].mean()\n",
    "overall_mesian_sent_price = auction_train['sentPrice'].median()\n",
    "print(f\"Overall mean sent price: {overall_avg_sent_price}\")\n",
    "print(f\"Overall median sent price: {overall_mesian_sent_price}\")\n",
    "# Calculate average sentPrice for each combination of attributes\n",
    "avg_price_by_combination = auction_train.groupby(['unitDisplayType', 'brandName', 'bundleId', 'countryCode', 'osAndVersion'])['sentPrice'].mean()\n",
    "print(auction_train.groupby(['bundleId'])['sentPrice'].mean().sort_values(ascending=False))"
   ]
  },
  {
   "cell_type": "code",
   "execution_count": 11,
   "id": "df935631-5d91-4845-a079-3770eb7d359e",
   "metadata": {},
   "outputs": [],
   "source": [
    "# Create a mapping from bundleId to embedding for faster lookup\n",
    "bundle_id_to_embedding = {row['bundleId']: json.loads(row['embedding']) for index, row in app_vectors_df.iterrows()}\n",
    "# Dictionary to hold the similarity results for each app\n",
    "app_similarity = {}\n",
    "\n",
    "# Iterate through each unique app in the auction data\n",
    "for bundle_id in filtered_auction_df['bundleId'].unique():\n",
    "    # Find the embedding for the current app\n",
    "    if bundle_id in bundle_id_to_embedding:\n",
    "        vec = bundle_id_to_embedding[bundle_id]\n",
    "\n",
    "        # Prepare and execute the SQL query to find similar apps based on cosine similarity\n",
    "        sql_query = f'''\n",
    "        SELECT\n",
    "            \"bundleId\"\n",
    "        FROM app_vectors\n",
    "        ORDER BY embedding<=>'{json.dumps(vec)}'\n",
    "        '''\n",
    "        with engine.connect() as db_con:\n",
    "            similar_apps_df = pd.read_sql(sql_query, con=db_con)\n",
    "\n",
    "        # Exclude the current app from its list of similar apps\n",
    "        similar_apps_list = similar_apps_df['bundleId'].tolist()\n",
    "        if bundle_id in similar_apps_list:\n",
    "            similar_apps_list.remove(bundle_id)\n",
    "        \n",
    "        # app_similarity[bundle_id] = similar_apps_list\n",
    "        app_similarity[bundle_id] = {'cosine': similar_apps_list}\n",
    "    else:\n",
    "        app_similarity[bundle_id] = []"
   ]
  },
  {
   "cell_type": "code",
   "execution_count": 12,
   "id": "84861f1d-bcdd-42ce-9b08-87aec0293466",
   "metadata": {},
   "outputs": [],
   "source": [
    "# Calculate the inverse covariance matrix from all vectors\n",
    "all_vectors = np.array(list(bundle_id_to_embedding.values()))\n",
    "covariance_matrix = np.cov(all_vectors, rowvar=False)\n",
    "inverse_covariance_matrix = inv(covariance_matrix)\n",
    "\n",
    "# Adding Mahalanobis similar apps to the dictionary\n",
    "for bundle_id in filtered_auction_df['bundleId'].unique():\n",
    "    if bundle_id in bundle_id_to_embedding:\n",
    "        similar_apps_mahalanobis = find_similar_apps_mahalanobis(bundle_id)\n",
    "        app_similarity[bundle_id]['mahalanobis'] = similar_apps_mahalanobis"
   ]
  },
  {
   "cell_type": "code",
   "execution_count": 13,
   "id": "fcfaa759-b4ef-4df4-b646-96b810a6eb62",
   "metadata": {},
   "outputs": [],
   "source": [
    "# Apply predictions across the test set\n",
    "auction_test['predicted_price_naive'] = auction_test.apply(apply_naive_prediction, axis=1)"
   ]
  },
  {
   "cell_type": "code",
   "execution_count": 14,
   "id": "399cc1c8-97f9-4f55-9f6d-2e750beed2f3",
   "metadata": {},
   "outputs": [],
   "source": [
    "predicted_prices_cosine = []\n",
    "predicted_prices_mahalanobis = [] \n",
    "\n",
    "for index, row in auction_test.iterrows():\n",
    "    \n",
    "    similar_apps_cosine = find_similar_apps_cosine(row['bundleId'], top_n=3)\n",
    "    predicted_prices_cosine.append(calculate_average_price(similar_apps_cosine, auction_train))\n",
    "    \n",
    "    similar_apps_mahalanobis = find_similar_apps_mahalanobis(row['bundleId'], top_n=5)\n",
    "    predicted_prices_mahalanobis.append(calculate_average_price(similar_apps_mahalanobis, auction_train))\n",
    "\n",
    "auction_test['predicted_price_cosine'] = predicted_prices_cosine\n",
    "auction_test['predicted_price_mahalanobis'] = predicted_prices_mahalanobis "
   ]
  },
  {
   "cell_type": "code",
   "execution_count": 15,
   "id": "d6046e81-19fc-47d4-81c0-f99bd37f4795",
   "metadata": {},
   "outputs": [
    {
     "name": "stdout",
     "output_type": "stream",
     "text": [
      "Overall MSE (Naive): 0.8952878970877222\n",
      "Overall MSE (Cosine): 1.3371807088091465\n",
      "Overall MSE (mahalanobis): 1.3473150796781284\n"
     ]
    }
   ],
   "source": [
    "# Calculate errors across all test predictions\n",
    "mse_naive = mean_squared_error(auction_test['sentPrice'], auction_test['predicted_price_naive'])\n",
    "mse_cosine = mean_squared_error(auction_test['sentPrice'], auction_test['predicted_price_cosine'].fillna(0))  # Fill NA if there's no prediction\n",
    "mse_mahalanobis = mean_squared_error(auction_test['sentPrice'], auction_test['predicted_price_mahalanobis'].fillna(0))  # Fill NA if there's no prediction\n",
    "\n",
    "# Print out overall MSE results for comparison\n",
    "print(f\"Overall MSE (Naive): {mse_naive}\")\n",
    "print(f\"Overall MSE (Cosine): {mse_cosine}\")\n",
    "print(f\"Overall MSE (mahalanobis): {mse_mahalanobis}\")"
   ]
  },
  {
   "cell_type": "code",
   "execution_count": null,
   "id": "937ef1d9-300f-422a-bc3d-0f8aa12a1037",
   "metadata": {},
   "outputs": [],
   "source": [
    "# Generate a new auction row with random values from each column\n",
    "new_auction = {\n",
    "    'sentPrice': float(),  # Placeholder for the predicted price\n",
    "    'unitDisplayType': np.random.choice(auction_test['unitDisplayType']),\n",
    "    'brandName': np.random.choice(auction_test['brandName']),\n",
    "    'bundleId': np.random.choice(auction_test['bundleId']),\n",
    "    'countryCode': np.random.choice(auction_test['countryCode']),\n",
    "    'deviceId': np.random.choice(auction_test['deviceId']),\n",
    "    'osAndVersion': np.random.choice(auction_test['osAndVersion'])\n",
    "}\n",
    "new_auction['sentPrice'] = float(auction_test[auction_test['deviceId'] == new_auction['deviceId']]['sentPrice'])\n",
    "new_auction"
   ]
  },
  {
   "cell_type": "code",
   "execution_count": 16,
   "id": "c74b43eb-e297-430c-9e36-a0dbe2d53f95",
   "metadata": {},
   "outputs": [
    {
     "name": "stdout",
     "output_type": "stream",
     "text": [
      "Overall MSE (Naive): 0.8952878970877222\n",
      "Overall MSE (Cosine): 1.3371807088091465\n",
      "Overall MSE (mahalanobis): 1.369829196817757\n"
     ]
    }
   ],
   "source": [
    "predicted_prices_cosine = []\n",
    "predicted_prices_mahalanobis = [] \n",
    "for index, row in auction_test.iterrows():\n",
    "    similar_apps_cosine = find_similar_apps_cosine(row['bundleId'], top_n=3)\n",
    "    predicted_prices_cosine.append(calculate_average_price(similar_apps_cosine, auction_train))\n",
    "    \n",
    "    similar_apps_mahalanobis = find_similar_apps_mahalanobis(row['bundleId'], top_n=3)\n",
    "    predicted_prices_mahalanobis.append(calculate_average_price(similar_apps_mahalanobis, auction_train))\n",
    "\n",
    "auction_test['predicted_price_cosine'] = predicted_prices_cosine\n",
    "auction_test['predicted_price_mahalanobis'] = predicted_prices_mahalanobis \n",
    "auction_test['predicted_price_naive'] = auction_test.apply(apply_naive_prediction, axis=1)\n",
    "\n",
    "# Calculate errors across all test predictions\n",
    "mse_naive = mean_squared_error(auction_test['sentPrice'], auction_test['predicted_price_naive'])\n",
    "mse_cosine = mean_squared_error(auction_test['sentPrice'], auction_test['predicted_price_cosine'].fillna(0))  # Fill NA if there's no prediction\n",
    "mse_mahalanobis = mean_squared_error(auction_test['sentPrice'], auction_test['predicted_price_mahalanobis'].fillna(0))  # Fill NA if there's no prediction\n",
    "\n",
    "# Print out overall MSE results for comparison\n",
    "print(f\"Overall MSE (Naive): {mse_naive}\")\n",
    "print(f\"Overall MSE (Cosine): {mse_cosine}\")\n",
    "print(f\"Overall MSE (mahalanobis): {mse_mahalanobis}\")"
   ]
  },
  {
   "cell_type": "code",
   "execution_count": null,
   "id": "fd739ae0-c2a1-4bf1-9d7f-c1557c8e2b34",
   "metadata": {},
   "outputs": [],
   "source": [
    "plt.figure(figsize=(21, 7))  # Extend figure size to accommodate three subplots\n",
    "\n",
    "# Plot for Naive Predictions\n",
    "plt.subplot(1, 3, 1)  # 1 row, 3 columns, 1st subplot\n",
    "sns.scatterplot(x=auction_test['sentPrice'], y=auction_test['predicted_price_naive'])\n",
    "plt.title('Actual vs. Naive Predicted Prices')\n",
    "plt.xlabel('Actual Prices')\n",
    "plt.ylabel('Naive Predicted Prices')\n",
    "\n",
    "# Plot for Cosine Similarity Predictions\n",
    "plt.subplot(1, 3, 2)  # 1 row, 3 columns, 2nd subplot\n",
    "sns.scatterplot(x=auction_test['sentPrice'], y=auction_test['predicted_price_cosine'])\n",
    "plt.title('Actual vs. Cosine Predicted Prices')\n",
    "plt.xlabel('Actual Prices')\n",
    "plt.ylabel('Cosine Predicted Prices')\n",
    "\n",
    "# Plot for Mahalanobis Distance Predictions\n",
    "plt.subplot(1, 3, 3)  # 1 row, 3 columns, 3rd subplot\n",
    "sns.scatterplot(x=auction_test['sentPrice'], y=auction_test['predicted_price_mahalanobis'].fillna(0))  # Filling NA if there's no prediction\n",
    "plt.title('Actual vs. Mahalanobis Predicted Prices')\n",
    "plt.xlabel('Actual Prices')\n",
    "plt.ylabel('Mahalanobis Predicted Prices')\n",
    "\n",
    "plt.tight_layout()\n",
    "plt.show()"
   ]
  },
  {
   "cell_type": "code",
   "execution_count": null,
   "id": "03326b81-4981-4852-a288-f2c9e8bd438a",
   "metadata": {},
   "outputs": [],
   "source": [
    "## func section \n",
    "def add_embeddings(df, embedding_dict):\n",
    "    \n",
    "    default_embedding = [0] * len(next(iter(embedding_dict.values())))\n",
    "    df['embedding'] = df['bundleId'].apply(lambda x: embedding_dict.get(x, default_embedding))\n",
    "    \n",
    "    embeddings = df['embedding'].tolist()\n",
    "    \n",
    "    new_columns = [f'emb_{i}' for i in range(len(default_embedding))]\n",
    "    df[new_columns] = pd.DataFrame(embeddings, index=df.index)\n",
    "    \n",
    "    return df, new_columns\n",
    "    \n",
    "def train_linear_regression(X_train, y_train, X_test, y_test):\n",
    "    \n",
    "    lin_reg = LinearRegression()\n",
    "    lin_reg.fit(X_train, y_train)\n",
    "    \n",
    "    predictions = lin_reg.predict(X_test)\n",
    "    mse = mean_squared_error(y_test, predictions)\n",
    "    print(f\"MSE for Linear Regression: {mse}\")\n",
    "    \n",
    "    return lin_reg\n",
    "\n",
    "def apply_clustering(X_train_scaled, X_test_scaled, num_clusters):\n",
    "    kmeans = KMeans(n_clusters=num_clusters, random_state=42)\n",
    "    clusters_train = kmeans.fit_predict(X_train_scaled)\n",
    "    clusters_test = kmeans.predict(X_test_scaled)\n",
    "    return clusters_train, clusters_test\n",
    "    \n",
    "def determine_optimal_clusters(X_scaled, max_clusters=10):\n",
    "\n",
    "    silhouette_scores = []\n",
    "    range_n_clusters = range(2, max_clusters + 1)  # At least 2 clusters are needed to define silhouette score\n",
    "\n",
    "    for n_clusters in range_n_clusters:\n",
    "        kmeans = KMeans(n_clusters=n_clusters, random_state=42)\n",
    "        cluster_labels = kmeans.fit_predict(X_scaled)\n",
    "        silhouette_avg = silhouette_score(X_scaled, cluster_labels)\n",
    "        silhouette_scores.append(silhouette_avg)\n",
    "    # Find the number of clusters that gives the maximum silhouette score\n",
    "    optimal_clusters = range_n_clusters[silhouette_scores.index(max(silhouette_scores))]\n",
    "\n",
    "    # Plotting to find the \"elbow\"\n",
    "    plt.figure()\n",
    "    plt.plot(range_n_clusters, silhouette_scores, 'bo-')\n",
    "    plt.title('Finding the Optimal Number of Clusters')\n",
    "    plt.xlabel('Clusters')\n",
    "    plt.ylabel('Inertia')\n",
    "    plt.show()\n",
    "    \n",
    "    return optimal_clusters\n",
    "\n",
    "def train_logistic_regression(X_train, y_train, X_test, y_test):\n",
    "    parameters = {'C': [0.01, 0.05, 0.1, 0.5], 'max_iter': [100]}\n",
    "    log_reg = LogisticRegression()\n",
    "    clf = GridSearchCV(log_reg, parameters, cv=5)\n",
    "    clf.fit(X_train, y_train)\n",
    "    \n",
    "    best_model = clf.best_estimator_\n",
    "    predictions = best_model.predict(X_test)\n",
    "    accuracy = accuracy_score(y_test, predictions)\n",
    "    \n",
    "    print(f\"Best parameters: {clf.best_params_}\\n\")\n",
    "    print(f\"Accuracy for Logistic Regression: {accuracy}\\n\")\n",
    "    print(classification_report(y_test, predictions))\n",
    "    \n",
    "    return best_model"
   ]
  },
  {
   "cell_type": "code",
   "execution_count": null,
   "id": "03329c42-d5b1-4467-8477-21d76cf60461",
   "metadata": {},
   "outputs": [],
   "source": [
    "# Apply this function to both datasets and capture the new column names for embeddings\n",
    "auction_train, embedding_features = add_embeddings(auction_train.copy(), bundle_id_to_embedding)\n",
    "auction_test, _ = add_embeddings(auction_test.copy(), bundle_id_to_embedding)\n",
    "\n",
    "# Apply Machine Learning Models\n",
    "X_train_emb = auction_train[embedding_features]\n",
    "y_train = auction_train['sentPrice']\n",
    "X_test_emb = auction_test[embedding_features]\n",
    "y_test = auction_test['sentPrice']\n",
    "\n",
    "# Scaling - important for regression and clustering with embedding features\n",
    "scaler = StandardScaler()\n",
    "X_train_scaled = scaler.fit_transform(X_train_emb)\n",
    "X_test_scaled = scaler.transform(X_test_emb)"
   ]
  },
  {
   "cell_type": "code",
   "execution_count": null,
   "id": "d6db57f0-4be6-4957-ad4b-e1137ca55521",
   "metadata": {},
   "outputs": [],
   "source": [
    "# Linear Regression with Embeddings\n",
    "lin_reg_emb = train_linear_regression(X_train_scaled, y_train, X_test_scaled, y_test)\n",
    "X_train_all = pd.get_dummies(auction_train[embedding_features], drop_first=True)\n",
    "\n",
    "# Print the importance of features from the all-features model\n",
    "print(\"Top 3 most important characteristics for predicting the price:\")\n",
    "importance = pd.Series(lin_reg_emb.coef_, index=X_train_emb.columns).sort_values(key=abs, ascending=False)\n",
    "print(importance.head(12))"
   ]
  },
  {
   "cell_type": "code",
   "execution_count": null,
   "id": "12407a7c-b211-4e24-8f71-ccf5988b22bc",
   "metadata": {},
   "outputs": [],
   "source": [
    "# Apply Machine Learning Models\n",
    "n = 10\n",
    "X_train_emb_agn = auction_train[importance.index[:n].tolist()]\n",
    "y_train = auction_train['sentPrice']\n",
    "X_test_emb_agn = auction_test[importance.index[:n].tolist()]\n",
    "y_test = auction_test['sentPrice']\n",
    "\n",
    "# Scaling - important for regression and clustering with embedding features\n",
    "scaler_agn = StandardScaler()\n",
    "X_train_scaled_agn = scaler_agn.fit_transform(X_train_emb_agn)\n",
    "X_test_scaled_agn = scaler_agn.transform(X_test_emb_agn)\n",
    "\n",
    "# Linear Regression with Embeddings\n",
    "lin_reg_emb_agn = train_linear_regression(X_train_scaled_agn, y_train, X_test_scaled_agn, y_test)"
   ]
  },
  {
   "cell_type": "code",
   "execution_count": null,
   "id": "01a72c0b-80f7-46b1-90c7-c9a925ed2bc8",
   "metadata": {},
   "outputs": [],
   "source": []
  },
  {
   "cell_type": "code",
   "execution_count": null,
   "id": "80f1c3f0-e5f5-432c-881d-e7c2ab96cf9b",
   "metadata": {},
   "outputs": [],
   "source": [
    "all_features = ['unitDisplayType', 'brandName', 'countryCode', 'osAndVersion', 'bundleId']\n",
    "\n",
    "# Regression with All Features\n",
    "X_train_all = pd.get_dummies(auction_train[all_features], drop_first=True)\n",
    "X_test_all = pd.get_dummies(auction_test[all_features], drop_first=True)\n",
    "X_test_all = X_test_all.reindex(columns = X_train_all.columns, fill_value=0)  # Align columns\n",
    "\n",
    "lin_reg_all = train_linear_regression(X_train_all, y_train, X_test_all, y_test)\n",
    "\n",
    "# Print the importance of features from the all-features model\n",
    "print(\"Top 3 most important characteristics for predicting the price:\")\n",
    "importance = pd.Series(lin_reg_all.coef_, index=X_train_all.columns).sort_values(key=abs, ascending=False)\n",
    "print(importance.head(10))"
   ]
  },
  {
   "cell_type": "code",
   "execution_count": null,
   "id": "e9857a9d-53e2-45ac-9b0a-5d2f591c3924",
   "metadata": {},
   "outputs": [],
   "source": [
    "# Apply Machine Learning Models\n",
    "n = 12\n",
    "X_train_emb_agn = X_train_all[importance.index[:n].tolist()]\n",
    "y_train = auction_train['sentPrice']\n",
    "X_test_emb_agn = X_test_all[importance.index[:n].tolist()]\n",
    "y_test = auction_test['sentPrice']\n",
    "\n",
    "# Scaling - important for regression and clustering with embedding features\n",
    "scaler_agn = StandardScaler()\n",
    "X_train_scaled_agn = scaler_agn.fit_transform(X_train_emb_agn)\n",
    "X_test_scaled_agn = scaler_agn.transform(X_test_emb_agn)\n",
    "\n",
    "# Linear Regression with Embeddings\n",
    "lin_reg_emb_agn = train_linear_regression(X_train_scaled_agn, y_train, X_test_scaled_agn, y_test)"
   ]
  },
  {
   "cell_type": "code",
   "execution_count": null,
   "id": "510117b2-57c9-4edb-939e-f71f7ebef765",
   "metadata": {},
   "outputs": [],
   "source": [
    "optimal_clusters = determine_optimal_clusters(X_train_scaled, max_clusters=10)\n",
    "auction_train['cluster'], auction_test['cluster'] = apply_clustering(X_train_scaled, X_test_scaled, optimal_clusters)"
   ]
  },
  {
   "cell_type": "code",
   "execution_count": null,
   "id": "30dad1ac-1df1-4057-871b-cd5a10e6fd29",
   "metadata": {},
   "outputs": [],
   "source": [
    "auction_train.groupby('cluster')['sentPrice'].median().sort_values(ascending=False)\n",
    "auction_train.groupby('cluster')['sentPrice'].mean().sort_values(ascending=False)"
   ]
  },
  {
   "cell_type": "code",
   "execution_count": null,
   "id": "2f5c835b-64ac-4e48-90fc-a5b9ca512612",
   "metadata": {},
   "outputs": [],
   "source": [
    "for cluster_index in auction_train['cluster'].unique():\n",
    "    print(auction_train[auction_train['cluster'] == i].groupby('bundleId')['sentPrice'].mean().sort_values(ascending=False))"
   ]
  },
  {
   "cell_type": "code",
   "execution_count": null,
   "id": "055b4ec0-e117-45a6-9ece-6235e8766c2a",
   "metadata": {},
   "outputs": [],
   "source": [
    "auction_train['price_category'] = pd.qcut(auction_train['sentPrice'], 5, labels=['low', 'medium-', 'medium', 'medium+','high'])\n",
    "auction_test['price_category'] = pd.qcut(auction_test['sentPrice'], 5, labels=['low', 'medium-', 'medium', 'medium+', 'high'])\n",
    "\n",
    "# Prepare data for logistic regression\n",
    "X_train_cat = auction_train[embedding_features]  # Assuming embeddings are numerical and correctly scaled\n",
    "y_train_cat = auction_train['price_category']\n",
    "X_test_cat = auction_test[embedding_features]\n",
    "y_test_cat = auction_test['price_category']\n",
    "\n",
    "# Make sure the embeddings are scaled\n",
    "scaler_cat = StandardScaler()\n",
    "X_train_cat_scaled = scaler_cat.fit_transform(X_train_cat)\n",
    "X_test_cat_scaled = scaler_cat.transform(X_test_cat)\n",
    "\n",
    "# Logistic Regression with Embeddings\n",
    "log_reg_model_emb = train_logistic_regression(X_train_scaled, y_train_cat, X_test_scaled, y_test_cat)"
   ]
  },
  {
   "cell_type": "code",
   "execution_count": null,
   "id": "915ee9d4-8626-4f49-ae8f-2b476d7874d4",
   "metadata": {
    "scrolled": true
   },
   "outputs": [],
   "source": [
    "# Train Logistic Regression\n",
    "log_reg_model_cat = train_logistic_regression(X_train_cat_scaled, y_train_cat, X_test_cat_scaled, y_test_cat)"
   ]
  },
  {
   "cell_type": "code",
   "execution_count": null,
   "id": "2394ec11-73d5-4050-a6e6-d79f872065bf",
   "metadata": {},
   "outputs": [],
   "source": [
    "# Logistic Regression with Embeddings\n",
    "log_reg_model_emb = train_logistic_regression(X_train_scaled, y_train_cat, X_test_scaled, y_test_cat)"
   ]
  },
  {
   "cell_type": "code",
   "execution_count": null,
   "id": "4cb2ca13-32a4-4018-b2eb-e7bfc1bec7b8",
   "metadata": {},
   "outputs": [],
   "source": []
  },
  {
   "cell_type": "code",
   "execution_count": null,
   "id": "4ee692b5-f57e-4c01-ad75-d4b5053aadf8",
   "metadata": {},
   "outputs": [],
   "source": []
  },
  {
   "cell_type": "code",
   "execution_count": null,
   "id": "6c4c12a2-4064-47ac-98e8-4bf20e8ba892",
   "metadata": {},
   "outputs": [],
   "source": []
  },
  {
   "cell_type": "code",
   "execution_count": null,
   "id": "7f46bccb-7305-48ee-8309-c113bb7c3278",
   "metadata": {},
   "outputs": [],
   "source": []
  },
  {
   "cell_type": "code",
   "execution_count": null,
   "id": "87ff6132-a9c3-458f-9789-a47f65d8795a",
   "metadata": {},
   "outputs": [],
   "source": []
  },
  {
   "cell_type": "code",
   "execution_count": null,
   "id": "f0ad96cf-00b0-49aa-9309-8f7720aec9ba",
   "metadata": {},
   "outputs": [],
   "source": []
  },
  {
   "cell_type": "code",
   "execution_count": null,
   "id": "daf1d355-2af3-4514-ae0e-45d3249753bf",
   "metadata": {},
   "outputs": [],
   "source": []
  },
  {
   "cell_type": "code",
   "execution_count": null,
   "id": "731343c4-70b9-4ec8-ba77-86743d3bcafe",
   "metadata": {},
   "outputs": [],
   "source": []
  },
  {
   "cell_type": "code",
   "execution_count": null,
   "id": "4edbf7a9-2f8f-4d3e-bf6f-e686d90540b0",
   "metadata": {},
   "outputs": [],
   "source": []
  },
  {
   "cell_type": "code",
   "execution_count": null,
   "id": "b8bc9564-9286-4831-87a8-d57e27aea7bd",
   "metadata": {
    "scrolled": true
   },
   "outputs": [],
   "source": [
    "from sklearn.linear_model import LinearRegression\n",
    "from sklearn.metrics import mean_absolute_error, mean_squared_error\n",
    "\n",
    "# Prepare the dataset for regression analysis\n",
    "X_train = auction_train[['unitDisplayType', 'brandName', 'countryCode']]  # Add more features as necessary\n",
    "X_train = pd.get_dummies(X_train, drop_first=True)  # One-hot encode categorical features\n",
    "y_train = auction_train['sentPrice']\n",
    "\n",
    "# Similarly, prepare the test set\n",
    "X_test = auction_test[['unitDisplayType', 'brandName', 'countryCode']]  # Ensure this matches the training set features\n",
    "X_test = pd.get_dummies(X_test, drop_first=True)\n",
    "y_test = auction_test['sentPrice']\n",
    "\n",
    "# Handle any mismatch in columns after one-hot encoding between train and test sets\n",
    "X_test = X_test.reindex(columns = X_train.columns, fill_value=0)\n",
    "\n",
    "# Perform Linear Regression\n",
    "lin_reg = LinearRegression()\n",
    "lin_reg.fit(X_train, y_train)\n",
    "predictions_lin = lin_reg.predict(X_test)\n",
    "\n",
    "# Measure and print out the performance\n",
    "mse_lin = mean_squared_error(y_test, predictions_lin)\n",
    "print(f\"MSE for Linear Regression: {mse_lin}\")\n",
    "\n",
    "# Importance of features\n",
    "feature_importance = pd.Series(lin_reg.coef_, index=X_train.columns).sort_values(key=abs, ascending=False)\n",
    "print(\"Top 3 most important features for predicting the price:\")\n",
    "feature_importance.head(3)"
   ]
  },
  {
   "cell_type": "code",
   "execution_count": null,
   "id": "357e9732-6d6b-49c3-bced-1982fc85d16a",
   "metadata": {},
   "outputs": [],
   "source": []
  },
  {
   "cell_type": "code",
   "execution_count": null,
   "id": "a2dfa7f7-c678-4224-bc67-e68c4539297b",
   "metadata": {},
   "outputs": [],
   "source": []
  },
  {
   "cell_type": "code",
   "execution_count": null,
   "id": "fef6b04c-fefd-477c-bcc9-2a809313c0c5",
   "metadata": {},
   "outputs": [],
   "source": []
  },
  {
   "cell_type": "code",
   "execution_count": null,
   "id": "acbb873b-08b1-4ab2-9794-16dfc608d064",
   "metadata": {},
   "outputs": [],
   "source": []
  },
  {
   "cell_type": "code",
   "execution_count": null,
   "id": "36b9faf3-ed8a-4726-96c7-0ce4260c8600",
   "metadata": {},
   "outputs": [],
   "source": []
  }
 ],
 "metadata": {
  "kernelspec": {
   "display_name": "Python 3 (ipykernel)",
   "language": "python",
   "name": "python3"
  },
  "language_info": {
   "codemirror_mode": {
    "name": "ipython",
    "version": 3
   },
   "file_extension": ".py",
   "mimetype": "text/x-python",
   "name": "python",
   "nbconvert_exporter": "python",
   "pygments_lexer": "ipython3",
   "version": "3.11.6"
  }
 },
 "nbformat": 4,
 "nbformat_minor": 5
}
